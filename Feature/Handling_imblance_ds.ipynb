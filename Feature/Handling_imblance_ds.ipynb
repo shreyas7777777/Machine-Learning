{
 "cells": [
  {
   "cell_type": "markdown",
   "id": "c5cb7961",
   "metadata": {},
   "source": [
    "Up samping\n"
   ]
  },
  {
   "cell_type": "code",
   "execution_count": 1,
   "id": "706afb71",
   "metadata": {},
   "outputs": [],
   "source": [
    "import numpy as np\n",
    "import pandas as pd\n",
    "\n",
    "np.random.seed(123)\n",
    "\n",
    "n_samples = 1000\n",
    "class_zero_ratio = 0.9\n",
    "\n",
    "n_class_zero = int(n_samples * class_zero_ratio)\n",
    "n_class_one = n_samples - n_class_zero\n",
    "\n",
    "#creating df\n",
    "\n",
    "# Generate features for class zero\n",
    "feature1_class_zero = np.random.normal(loc=0, scale=1, size=n_class_zero)\n",
    "feature2_class_zero = np.random.normal(loc=0, scale=1, size=n_class_zero)\n",
    "\n",
    "# Generate features for class one\n",
    "feature1_class_one = np.random.normal(loc=1, scale=1, size=n_class_one)\n",
    "feature2_class_one = np.random.normal(loc=1, scale=1, size=n_class_one)\n",
    "\n",
    "# Create dataframes\n",
    "class_zero_df = pd.DataFrame({\n",
    "    'feature1': feature1_class_zero,\n",
    "    'feature2': feature2_class_zero,\n",
    "    'target': 0\n",
    "})\n",
    "\n",
    "class_one_df = pd.DataFrame({\n",
    "    'feature1': feature1_class_one,\n",
    "    'feature2': feature2_class_one,\n",
    "    'target': 1\n",
    "})\n",
    "\n",
    "# Combine dataframes\n",
    "df = pd.concat([class_zero_df, class_one_df], ignore_index=True)"
   ]
  },
  {
   "cell_type": "code",
   "execution_count": null,
   "id": "d620801d",
   "metadata": {},
   "outputs": [],
   "source": [
    "from sklearn.utils import resample\n",
    "import pandas as pd\n",
    "\n",
    "# Separate majority and minority classes\n",
    "df_minority = df[df['target'] == 1]\n",
    "df_majority = df[df['target'] == 0]\n",
    "\n",
    "# Upsampling minority class\n",
    "df_minority_upsampled = resample(\n",
    "    df_minority,\n",
    "    replace=True,\n",
    "    n_samples=len(df_majority),\n",
    "    random_state=42\n",
    ")\n",
    "\n",
    "# Combine upsampled data\n",
    "df_upsampled = pd.concat([df_majority, df_minority_upsampled], ignore_index=True)\n",
    "\n",
    "# Check distribution after upsampling\n",
    "print(df_upsampled['target'].value_counts())\n",
    "\n",
    "# Downsampling majority class\n",
    "df_majority_downsampled = resample(\n",
    "    df_majority,\n",
    "    replace=False,\n",
    "    n_samples=len(df_minority),\n",
    "    random_state=42\n",
    ")\n",
    "\n",
    "# Combine downsampled data\n",
    "df_downsampled = pd.concat([df_majority_downsampled, df_minority], ignore_index=True)\n",
    "\n",
    "# Check distribution after downsampling\n",
    "print(df_downsampled['target'].value_counts())\n"
   ]
  }
 ],
 "metadata": {
  "kernelspec": {
   "display_name": "ml-env",
   "language": "python",
   "name": "python3"
  },
  "language_info": {
   "codemirror_mode": {
    "name": "ipython",
    "version": 3
   },
   "file_extension": ".py",
   "mimetype": "text/x-python",
   "name": "python",
   "nbconvert_exporter": "python",
   "pygments_lexer": "ipython3",
   "version": "3.10.18"
  }
 },
 "nbformat": 4,
 "nbformat_minor": 5
}
