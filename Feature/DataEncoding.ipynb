{
 "cells": [
  {
   "cell_type": "markdown",
   "id": "68450562",
   "metadata": {},
   "source": [
    "Nominal/OHE Encoding"
   ]
  },
  {
   "cell_type": "code",
   "execution_count": 4,
   "id": "db4eaaab",
   "metadata": {},
   "outputs": [
    {
     "data": {
      "text/plain": [
       "array([[0., 0., 1.],\n",
       "       [1., 0., 0.],\n",
       "       [0., 1., 0.],\n",
       "       [0., 0., 1.],\n",
       "       [1., 0., 0.]])"
      ]
     },
     "execution_count": 4,
     "metadata": {},
     "output_type": "execute_result"
    }
   ],
   "source": [
    "import pandas as pd\n",
    "from sklearn.preprocessing import OneHotEncoder\n",
    "\n",
    "df = pd.DataFrame({\"color\": [\"red\", \"blue\", \"green\", \"red\", \"blue\"]})\n",
    "df.head()\n",
    "\n",
    "\n",
    "encoder = OneHotEncoder()\n",
    "\n",
    "encoder.fit_transform(df[['color']]).toarray()"
   ]
  },
  {
   "cell_type": "markdown",
   "id": "2f85e88f",
   "metadata": {},
   "source": [
    "Lable encoding\n"
   ]
  },
  {
   "cell_type": "code",
   "execution_count": 8,
   "id": "4311b656",
   "metadata": {},
   "outputs": [
    {
     "name": "stderr",
     "output_type": "stream",
     "text": [
      "e:\\Users\\Shreyas\\anaconda3\\envs\\ml-env\\lib\\site-packages\\sklearn\\preprocessing\\_label.py:110: DataConversionWarning: A column-vector y was passed when a 1d array was expected. Please change the shape of y to (n_samples, ), for example using ravel().\n",
      "  y = column_or_1d(y, warn=True)\n"
     ]
    },
    {
     "data": {
      "text/plain": [
       "array([0])"
      ]
     },
     "execution_count": 8,
     "metadata": {},
     "output_type": "execute_result"
    }
   ],
   "source": [
    "from sklearn.preprocessing import LabelEncoder\n",
    "label_encoder = LabelEncoder()\n",
    "\n",
    "\n",
    "df['color_encoded'] = label_encoder.fit_transform(df[['color']])\n",
    "\n",
    "\n",
    "label_encoder.transform(['red'])\n",
    "label_encoder.transform(['blue'])"
   ]
  },
  {
   "cell_type": "markdown",
   "id": "687d874a",
   "metadata": {},
   "source": [
    "Ordinal Encoding\n"
   ]
  },
  {
   "cell_type": "code",
   "execution_count": null,
   "id": "cd29f6b0",
   "metadata": {},
   "outputs": [],
   "source": [
    "from sklearn.preprocessing import OrdinalEncoder\n",
    "encoder = OrdinalEncoder(categories=[['small', 'medium', 'large']])\n",
    "\n",
    "df['size_encoded'] = encoder.fit_transform(df[['size']])\n",
    "\n",
    "encoder.transform([['small']])"
   ]
  },
  {
   "cell_type": "markdown",
   "id": "8c054968",
   "metadata": {},
   "source": [
    "Taregt Guided Ordinal Encoding"
   ]
  },
  {
   "cell_type": "code",
   "execution_count": null,
   "id": "54d7dbb6",
   "metadata": {},
   "outputs": [],
   "source": [
    "\n",
    "df.groupby('city')['price'].mean().to_dict()\n"
   ]
  },
  {
   "cell_type": "markdown",
   "id": "faf8fefb",
   "metadata": {},
   "source": []
  }
 ],
 "metadata": {
  "kernelspec": {
   "display_name": "ml-env",
   "language": "python",
   "name": "python3"
  },
  "language_info": {
   "codemirror_mode": {
    "name": "ipython",
    "version": 3
   },
   "file_extension": ".py",
   "mimetype": "text/x-python",
   "name": "python",
   "nbconvert_exporter": "python",
   "pygments_lexer": "ipython3",
   "version": "3.10.18"
  }
 },
 "nbformat": 4,
 "nbformat_minor": 5
}
