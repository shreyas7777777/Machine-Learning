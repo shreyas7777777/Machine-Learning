{
 "cells": [
  {
   "cell_type": "markdown",
   "id": "0d5de950",
   "metadata": {},
   "source": [
    "SMOTE\n"
   ]
  },
  {
   "cell_type": "code",
   "execution_count": 15,
   "id": "abb92f1b",
   "metadata": {},
   "outputs": [
    {
     "data": {
      "text/html": [
       "<div>\n",
       "<style scoped>\n",
       "    .dataframe tbody tr th:only-of-type {\n",
       "        vertical-align: middle;\n",
       "    }\n",
       "\n",
       "    .dataframe tbody tr th {\n",
       "        vertical-align: top;\n",
       "    }\n",
       "\n",
       "    .dataframe thead th {\n",
       "        text-align: right;\n",
       "    }\n",
       "</style>\n",
       "<table border=\"1\" class=\"dataframe\">\n",
       "  <thead>\n",
       "    <tr style=\"text-align: right;\">\n",
       "      <th></th>\n",
       "      <th>f1</th>\n",
       "      <th>f2</th>\n",
       "    </tr>\n",
       "  </thead>\n",
       "  <tbody>\n",
       "    <tr>\n",
       "      <th>0</th>\n",
       "      <td>-0.762898</td>\n",
       "      <td>-0.706808</td>\n",
       "    </tr>\n",
       "    <tr>\n",
       "      <th>1</th>\n",
       "      <td>-1.075436</td>\n",
       "      <td>-1.051162</td>\n",
       "    </tr>\n",
       "    <tr>\n",
       "      <th>2</th>\n",
       "      <td>-0.610115</td>\n",
       "      <td>-0.909802</td>\n",
       "    </tr>\n",
       "    <tr>\n",
       "      <th>3</th>\n",
       "      <td>-2.023284</td>\n",
       "      <td>-0.428945</td>\n",
       "    </tr>\n",
       "    <tr>\n",
       "      <th>4</th>\n",
       "      <td>-0.812921</td>\n",
       "      <td>-1.316206</td>\n",
       "    </tr>\n",
       "  </tbody>\n",
       "</table>\n",
       "</div>"
      ],
      "text/plain": [
       "         f1        f2\n",
       "0 -0.762898 -0.706808\n",
       "1 -1.075436 -1.051162\n",
       "2 -0.610115 -0.909802\n",
       "3 -2.023284 -0.428945\n",
       "4 -0.812921 -1.316206"
      ]
     },
     "execution_count": 15,
     "metadata": {},
     "output_type": "execute_result"
    }
   ],
   "source": [
    "from sklearn.datasets import make_classification\n",
    "X,y=make_classification(n_samples = 1000,n_redundant=0,n_features = 2,n_clusters_per_class =1,weights=[0.90],random_state=12)\n",
    "import pandas as pd\n",
    "\n",
    "# Create DataFrames for features and target\n",
    "\n",
    "df1 = pd.DataFrame(X, columns=['f1', 'f2'])\n",
    "df2 = pd.DataFrame(y, columns=['target'])\n",
    "\n",
    "# Concatenate features and target into a single DataFrame\n",
    "final_df = pd.concat([df1, df2], axis=1)\n",
    "df1.head()\n",
    "\n",
    "\n"
   ]
  },
  {
   "cell_type": "code",
   "execution_count": null,
   "id": "70f0154d",
   "metadata": {},
   "outputs": [
    {
     "name": "stdout",
     "output_type": "stream",
     "text": [
      "(1800, 2)\n",
      "(1800,)\n"
     ]
    }
   ],
   "source": [
    "from imblearn.over_sampling import SMOTE\n",
    "\n",
    "# Initialize SMOTE oversampler\n",
    "oversample = SMOTE()\n",
    "\n",
    "# Apply SMOTE to the dataset\n",
    "X_resampled, y_resampled = oversample.fit_resample(final_df[['f1', 'f2']], final_df['target'])\n",
    "\n",
    "print(X_resampled.shape)  # (1800, 2)\n",
    "print(y_resampled.shape)  # (1800,)ff"
   ]
  }
 ],
 "metadata": {
  "kernelspec": {
   "display_name": "ml-env",
   "language": "python",
   "name": "python3"
  },
  "language_info": {
   "codemirror_mode": {
    "name": "ipython",
    "version": 3
   },
   "file_extension": ".py",
   "mimetype": "text/x-python",
   "name": "python",
   "nbconvert_exporter": "python",
   "pygments_lexer": "ipython3",
   "version": "3.10.18"
  }
 },
 "nbformat": 4,
 "nbformat_minor": 5
}
